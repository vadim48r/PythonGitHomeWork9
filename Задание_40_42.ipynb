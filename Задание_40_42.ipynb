{
  "nbformat": 4,
  "nbformat_minor": 0,
  "metadata": {
    "colab": {
      "provenance": [],
      "authorship_tag": "ABX9TyMle4VvcfW3bbQrSBJTmEr8"
    },
    "kernelspec": {
      "name": "python3",
      "display_name": "Python 3"
    },
    "language_info": {
      "name": "python"
    }
  },
  "cells": [
    {
      "cell_type": "code",
      "source": [
        "# Практическое задание к семинару 9\n",
        "\n",
        "import pandas as pd"
      ],
      "metadata": {
        "id": "c7ooDsHzNMeY"
      },
      "execution_count": 4,
      "outputs": []
    },
    {
      "cell_type": "code",
      "source": [
        "df = pd.read_csv('/content/sample_data/california_housing_train.csv')"
      ],
      "metadata": {
        "id": "wIMSABmmNLBK"
      },
      "execution_count": 5,
      "outputs": []
    },
    {
      "cell_type": "code",
      "source": [
        "df"
      ],
      "metadata": {
        "id": "S-NYrJfWNQPe"
      },
      "execution_count": null,
      "outputs": []
    },
    {
      "cell_type": "code",
      "source": [
        "# Задача 40: Работать с файлом california_housing_train.csv, который находится в папке sample_data.\n",
        "# Определить среднюю стоимость дома, где кол-во людей от 0 до 500 (population)\n",
        "round(df[df['population'] <= 500]['median_house_value'].mean(), 2)"
      ],
      "metadata": {
        "id": "PZsja74HNfnk",
        "colab": {
          "base_uri": "https://localhost:8080/"
        },
        "outputId": "aded085c-82b1-4383-d035-ffc2b1c93337"
      },
      "execution_count": 7,
      "outputs": [
        {
          "output_type": "execute_result",
          "data": {
            "text/plain": [
              "206799.95"
            ]
          },
          "metadata": {},
          "execution_count": 7
        }
      ]
    },
    {
      "cell_type": "code",
      "source": [
        "# Задача 42: Узнать какая максимальная households в зоне минимального значения population\n",
        "df[df['population'] == df['population'].min()]['households'].max()"
      ],
      "metadata": {
        "id": "BwKW_k6rNoJw",
        "colab": {
          "base_uri": "https://localhost:8080/"
        },
        "outputId": "dca52b21-2b92-4029-85b6-aec3a12718b4"
      },
      "execution_count": 8,
      "outputs": [
        {
          "output_type": "execute_result",
          "data": {
            "text/plain": [
              "4.0"
            ]
          },
          "metadata": {},
          "execution_count": 8
        }
      ]
    }
  ]
}